{
  "nbformat": 4,
  "nbformat_minor": 0,
  "metadata": {
    "colab": {
      "provenance": []
    },
    "kernelspec": {
      "name": "python3",
      "display_name": "Python 3"
    },
    "language_info": {
      "name": "python"
    }
  },
  "cells": [
    {
      "cell_type": "markdown",
      "source": [
        "***NumPy***"
      ],
      "metadata": {
        "id": "JfwmYVEGurdk"
      }
    },
    {
      "cell_type": "code",
      "source": [
        "import numpy as np"
      ],
      "metadata": {
        "id": "oAT9-NRAcLOk"
      },
      "execution_count": 1,
      "outputs": []
    },
    {
      "cell_type": "code",
      "source": [
        "# creation\n",
        "arr = np.array([[1,2,3],[4,5,6]])\n",
        "arr = np.zeros(10)\n",
        "arr = np.ones(10)\n",
        "arr = np.arange(1,10,1) # start,stop,step\n",
        "arr = np.linspace(1,30,num=20,dtype=int)\n",
        "arr = np.random.randint(1,20,2)\n",
        "print(arr)"
      ],
      "metadata": {
        "colab": {
          "base_uri": "https://localhost:8080/"
        },
        "id": "pkDdACgccN2V",
        "outputId": "a4366a7f-0bc1-459d-bca6-eff302d6af38"
      },
      "execution_count": 2,
      "outputs": [
        {
          "output_type": "stream",
          "name": "stdout",
          "text": [
            "[11 11]\n"
          ]
        }
      ]
    },
    {
      "cell_type": "code",
      "source": [
        "# inspection\n",
        "print(arr.shape)\n",
        "print(arr.ndim) # no. of array dimensions\n",
        "print(type(arr))\n",
        "print(arr.dtype)\n",
        "print(arr.size)"
      ],
      "metadata": {
        "colab": {
          "base_uri": "https://localhost:8080/"
        },
        "id": "rynLv6H7g4u7",
        "outputId": "58c540c5-94a3-43de-ee5d-7512dbea67f4"
      },
      "execution_count": 3,
      "outputs": [
        {
          "output_type": "stream",
          "name": "stdout",
          "text": [
            "(2,)\n",
            "1\n",
            "<class 'numpy.ndarray'>\n",
            "int64\n",
            "2\n"
          ]
        }
      ]
    },
    {
      "cell_type": "code",
      "source": [
        "#2D\n",
        "c = np.array([[1,2,3],[2,3,1]])\n",
        "print(c)\n",
        "print(type(c))\n",
        "\n",
        "#3D\n",
        "d = np.array([[[1,2,3],[3,2,1]],[[1,2,0],[3,2,1]]])\n",
        "print(d)\n",
        "print(type(d))"
      ],
      "metadata": {
        "colab": {
          "base_uri": "https://localhost:8080/"
        },
        "id": "bXO16G2IUXCv",
        "outputId": "35d1ffb0-0529-4f97-c670-afe952035642"
      },
      "execution_count": 15,
      "outputs": [
        {
          "output_type": "stream",
          "name": "stdout",
          "text": [
            "[[1 2 3]\n",
            " [2 3 1]]\n",
            "<class 'numpy.ndarray'>\n",
            "[[[1 2 3]\n",
            "  [3 2 1]]\n",
            "\n",
            " [[1 2 0]\n",
            "  [3 2 1]]]\n",
            "<class 'numpy.ndarray'>\n"
          ]
        }
      ]
    },
    {
      "cell_type": "code",
      "source": [
        "# manipulation\n",
        "arr = np.linspace(1,20,num=9,dtype=int)\n",
        "arrNew = np.linspace(1,20,num=3,dtype=int)\n",
        "arr = arr.reshape(3,3)\n",
        "arr = arr.flatten()\n",
        "arr = np.concatenate((arr,arrNew),axis=0)\n",
        "arr = arr.astype(float)\n",
        "print(arr)\n",
        "\n",
        "arr = arr.reshape(4,3)\n",
        "print(arr)\n",
        "arr = np.transpose(arr)\n",
        "print(arr)"
      ],
      "metadata": {
        "colab": {
          "base_uri": "https://localhost:8080/"
        },
        "id": "j0bU53T9hKRl",
        "outputId": "32b5e512-aa72-4450-ddc5-7665422302ee"
      },
      "execution_count": 23,
      "outputs": [
        {
          "output_type": "stream",
          "name": "stdout",
          "text": [
            "[ 1.  3.  5.  8. 10. 12. 15. 17. 20.  1. 10. 20.]\n",
            "[[ 1.  3.  5.]\n",
            " [ 8. 10. 12.]\n",
            " [15. 17. 20.]\n",
            " [ 1. 10. 20.]]\n",
            "[[ 1.  8. 15.  1.]\n",
            " [ 3. 10. 17. 10.]\n",
            " [ 5. 12. 20. 20.]]\n"
          ]
        }
      ]
    },
    {
      "cell_type": "code",
      "source": [
        "# operations on numpy array\n",
        "a = np.linspace(10,20,num = 10,dtype = np.int64)\n",
        "b = np.linspace(1,10,num = 10,dtype = np.int32)\n",
        "\n",
        "print(a)\n",
        "print(b)\n",
        "print(a*2)\n",
        "print(a**2)\n",
        "print(a/2)\n",
        "print(a+1)\n",
        "print(a-1)\n",
        "print(a-b) #np.subtract(a,b)\n",
        "print(a+b) #np.add(a,b)\n",
        "print(a/b) #np.divide(a,b)\n",
        "print(a*b) #np.multiply(a,b)\n",
        "\n",
        "c = b**2\n",
        "d = np.sqrt(c)\n",
        "E = np.exp(d)\n",
        "f = np.log(E)\n",
        "\n",
        "print(a>15)\n",
        "print(d==f)"
      ],
      "metadata": {
        "colab": {
          "base_uri": "https://localhost:8080/"
        },
        "id": "EmS5PznJ47Gf",
        "outputId": "66787b5b-0b65-47f5-c9d5-a79fd686d8b8"
      },
      "execution_count": 18,
      "outputs": [
        {
          "output_type": "stream",
          "name": "stdout",
          "text": [
            "[10 11 12 13 14 15 16 17 18 20]\n",
            "[ 1  2  3  4  5  6  7  8  9 10]\n",
            "[20 22 24 26 28 30 32 34 36 40]\n",
            "[100 121 144 169 196 225 256 289 324 400]\n",
            "[ 5.   5.5  6.   6.5  7.   7.5  8.   8.5  9.  10. ]\n",
            "[11 12 13 14 15 16 17 18 19 21]\n",
            "[ 9 10 11 12 13 14 15 16 17 19]\n",
            "[ 9  9  9  9  9  9  9  9  9 10]\n",
            "[11 13 15 17 19 21 23 25 27 30]\n",
            "[10.          5.5         4.          3.25        2.8         2.5\n",
            "  2.28571429  2.125       2.          2.        ]\n",
            "[ 10  22  36  52  70  90 112 136 162 200]\n",
            "[False False False False False False  True  True  True  True]\n",
            "[ True  True  True  True  True  True  True  True  True  True]\n"
          ]
        }
      ]
    },
    {
      "cell_type": "code",
      "source": [
        "#ravel #insert #delete\n",
        "a = np.linspace(1,20,num = 20).reshape(4,5)\n",
        "print(a)\n",
        "a = a.ravel() # flatten alternative\n",
        "print(a)\n",
        "a = np.insert(a,5,100) # array, pos, element\n",
        "print(a)\n",
        "a = np.delete(a,[4,5])\n",
        "print(a)"
      ],
      "metadata": {
        "colab": {
          "base_uri": "https://localhost:8080/"
        },
        "id": "PiGH6xdpXEdE",
        "outputId": "16630c05-1e67-4d12-b524-a333bfafe96b"
      },
      "execution_count": 24,
      "outputs": [
        {
          "output_type": "stream",
          "name": "stdout",
          "text": [
            "[[ 1.  2.  3.  4.  5.]\n",
            " [ 6.  7.  8.  9. 10.]\n",
            " [11. 12. 13. 14. 15.]\n",
            " [16. 17. 18. 19. 20.]]\n",
            "[ 1.  2.  3.  4.  5.  6.  7.  8.  9. 10. 11. 12. 13. 14. 15. 16. 17. 18.\n",
            " 19. 20.]\n",
            "[  1.   2.   3.   4.   5. 100.   6.   7.   8.   9.  10.  11.  12.  13.\n",
            "  14.  15.  16.  17.  18.  19.  20.]\n",
            "[ 1.  2.  3.  4.  6.  7.  8.  9. 10. 11. 12. 13. 14. 15. 16. 17. 18. 19.\n",
            " 20.]\n"
          ]
        }
      ]
    },
    {
      "cell_type": "code",
      "source": [
        "# Aggregate/Functions\n",
        "x = np.linspace(1,100,num = 60,dtype = np.int32).reshape(30,2)\n",
        "print(x.sum(axis = 0))\n",
        "print(x)\n",
        "print(np.max(x))\n",
        "print(np.min(x))\n",
        "print(x.max(axis = 0))  # max in 2-D\n",
        "print(x.sum(axis = 0))\n",
        "x1 = np.random.random((1,2))\n",
        "print(x1)\n",
        "np.round(x1)\n",
        "np.ceil(x1)\n",
        "np.floor(x1)\n",
        "x2 = np.random.permutation(np.arange(1, 100))\n",
        "print(x2)\n",
        "print(np.sort(x2))"
      ],
      "metadata": {
        "colab": {
          "base_uri": "https://localhost:8080/"
        },
        "id": "-S4ph70H8w_E",
        "outputId": "ab56dd11-7f73-42e9-a75f-eb37ecf9ec2c"
      },
      "execution_count": 15,
      "outputs": [
        {
          "output_type": "stream",
          "name": "stdout",
          "text": [
            "[1475 1526]\n",
            "[[  1   2]\n",
            " [  4   6]\n",
            " [  7   9]\n",
            " [ 11  12]\n",
            " [ 14  16]\n",
            " [ 17  19]\n",
            " [ 21  22]\n",
            " [ 24  26]\n",
            " [ 27  29]\n",
            " [ 31  32]\n",
            " [ 34  36]\n",
            " [ 37  39]\n",
            " [ 41  42]\n",
            " [ 44  46]\n",
            " [ 47  49]\n",
            " [ 51  53]\n",
            " [ 54  56]\n",
            " [ 58  59]\n",
            " [ 61  63]\n",
            " [ 64  66]\n",
            " [ 68  69]\n",
            " [ 71  73]\n",
            " [ 74  76]\n",
            " [ 78  79]\n",
            " [ 81  83]\n",
            " [ 84  86]\n",
            " [ 88  89]\n",
            " [ 91  93]\n",
            " [ 94  96]\n",
            " [ 98 100]]\n",
            "100\n",
            "1\n",
            "[ 98 100]\n",
            "[1475 1526]\n",
            "[[0.53310401 0.57327341]]\n",
            "[98 36 18 59 10 31 20 60 56 66 89 97  2 48  3  4 88 94 21 50 78 90 16 27\n",
            " 29 71 84 85 76 83 63 32 26 42 58 22 82 23 55 44 99 39  7 81 87 70 65 54\n",
            "  8 49 64 30 62 14 37 86 28 45 11 53 15 47 19 68 61 74 12 57 95 33 35  6\n",
            " 52 43 79 80 92 17 91 38  5 41 75  9 93 34 96 73 13 46 40 69 77 51  1 24\n",
            " 72 25 67]\n",
            "[ 1  2  3  4  5  6  7  8  9 10 11 12 13 14 15 16 17 18 19 20 21 22 23 24\n",
            " 25 26 27 28 29 30 31 32 33 34 35 36 37 38 39 40 41 42 43 44 45 46 47 48\n",
            " 49 50 51 52 53 54 55 56 57 58 59 60 61 62 63 64 65 66 67 68 69 70 71 72\n",
            " 73 74 75 76 77 78 79 80 81 82 83 84 85 86 87 88 89 90 91 92 93 94 95 96\n",
            " 97 98 99]\n"
          ]
        }
      ]
    },
    {
      "cell_type": "code",
      "source": [
        "# slicing and indexing\n",
        "a = np.arange(0,9).reshape(3,3)\n",
        "print(a)\n",
        "# print(a[1,2])\n",
        "# print(a[[0,1,2],[0,0,0]])\n",
        "# print(a[:2,0])\n",
        "# a[a<7]\n",
        "print(a[:,:2])\n",
        "# a[2,::-1]"
      ],
      "metadata": {
        "colab": {
          "base_uri": "https://localhost:8080/"
        },
        "id": "io-RAEGaOpu7",
        "outputId": "033f18fa-a7dd-4ac0-9353-e8cb45b0fa18"
      },
      "execution_count": 20,
      "outputs": [
        {
          "output_type": "stream",
          "name": "stdout",
          "text": [
            "[[0 1 2]\n",
            " [3 4 5]\n",
            " [6 7 8]]\n",
            "[[0 1]\n",
            " [3 4]\n",
            " [6 7]]\n"
          ]
        }
      ]
    },
    {
      "cell_type": "code",
      "source": [
        "#broadcasting\n",
        "\n",
        "# !-- No error\n",
        "\n",
        "a = np.arange(9).reshape(3,3)\n",
        "b = np.arange(3).reshape(3)\n",
        "\n",
        "print(a)\n",
        "print(b)\n",
        "print(a+b)\n",
        "\n",
        "\n",
        "# !-- error\n",
        "\n",
        "a1 = np.arange(3).reshape(1,3)\n",
        "b1 = np.arange(3).reshape(3,2)\n",
        "\n",
        "print(a1)\n",
        "print(b1)\n",
        "print(a1+b1)\n"
      ],
      "metadata": {
        "colab": {
          "base_uri": "https://localhost:8080/",
          "height": 381
        },
        "id": "dL8xEFyf_5j4",
        "outputId": "102f7434-ac26-400a-cd92-43d9af752736"
      },
      "execution_count": null,
      "outputs": [
        {
          "output_type": "stream",
          "name": "stdout",
          "text": [
            "[[0 1 2]\n",
            " [3 4 5]\n",
            " [6 7 8]]\n",
            "[0 1 2]\n",
            "[[ 0  2  4]\n",
            " [ 3  5  7]\n",
            " [ 6  8 10]]\n"
          ]
        },
        {
          "output_type": "error",
          "ename": "ValueError",
          "evalue": "ignored",
          "traceback": [
            "\u001b[0;31m---------------------------------------------------------------------------\u001b[0m",
            "\u001b[0;31mValueError\u001b[0m                                Traceback (most recent call last)",
            "\u001b[0;32m<ipython-input-5-153305656a4e>\u001b[0m in \u001b[0;36m<cell line: 16>\u001b[0;34m()\u001b[0m\n\u001b[1;32m     14\u001b[0m \u001b[0;34m\u001b[0m\u001b[0m\n\u001b[1;32m     15\u001b[0m \u001b[0ma1\u001b[0m \u001b[0;34m=\u001b[0m \u001b[0mnp\u001b[0m\u001b[0;34m.\u001b[0m\u001b[0marange\u001b[0m\u001b[0;34m(\u001b[0m\u001b[0;36m3\u001b[0m\u001b[0;34m)\u001b[0m\u001b[0;34m.\u001b[0m\u001b[0mreshape\u001b[0m\u001b[0;34m(\u001b[0m\u001b[0;36m1\u001b[0m\u001b[0;34m,\u001b[0m\u001b[0;36m3\u001b[0m\u001b[0;34m)\u001b[0m\u001b[0;34m\u001b[0m\u001b[0;34m\u001b[0m\u001b[0m\n\u001b[0;32m---> 16\u001b[0;31m \u001b[0mb1\u001b[0m \u001b[0;34m=\u001b[0m \u001b[0mnp\u001b[0m\u001b[0;34m.\u001b[0m\u001b[0marange\u001b[0m\u001b[0;34m(\u001b[0m\u001b[0;36m3\u001b[0m\u001b[0;34m)\u001b[0m\u001b[0;34m.\u001b[0m\u001b[0mreshape\u001b[0m\u001b[0;34m(\u001b[0m\u001b[0;36m3\u001b[0m\u001b[0;34m,\u001b[0m\u001b[0;36m2\u001b[0m\u001b[0;34m)\u001b[0m\u001b[0;34m\u001b[0m\u001b[0;34m\u001b[0m\u001b[0m\n\u001b[0m\u001b[1;32m     17\u001b[0m \u001b[0;34m\u001b[0m\u001b[0m\n\u001b[1;32m     18\u001b[0m \u001b[0mprint\u001b[0m\u001b[0;34m(\u001b[0m\u001b[0ma1\u001b[0m\u001b[0;34m)\u001b[0m\u001b[0;34m\u001b[0m\u001b[0;34m\u001b[0m\u001b[0m\n",
            "\u001b[0;31mValueError\u001b[0m: cannot reshape array of size 3 into shape (3,2)"
          ]
        }
      ]
    },
    {
      "cell_type": "code",
      "source": [
        "#stacking and splitting\n",
        "a = np.linspace(1,10,num = 4,dtype =np.int32).reshape(2,2)\n",
        "b = np.linspace(10,20,num = 6,dtype = np.int32).reshape(2,3)\n",
        "print(a)\n",
        "print(b)\n",
        "print(np.hstack((a,b))) # require same number of column\n",
        "# print(np.vstack((a,b))) # require same number of rows\n",
        "b = np.array([1,2,3,4,5,6])\n",
        "print(np.split(b,3)) # no of splits\n",
        "# print(np.vsplit(c,2))"
      ],
      "metadata": {
        "colab": {
          "base_uri": "https://localhost:8080/"
        },
        "id": "RYregQMTccyP",
        "outputId": "e0d5526c-902d-43a5-91a3-c221fa6019dd"
      },
      "execution_count": 35,
      "outputs": [
        {
          "output_type": "stream",
          "name": "stdout",
          "text": [
            "[[ 1  4]\n",
            " [ 7 10]]\n",
            "[[10 12 14]\n",
            " [16 18 20]]\n",
            "[[ 1  4 10 12 14]\n",
            " [ 7 10 16 18 20]]\n",
            "[array([1, 2]), array([3, 4]), array([5, 6])]\n"
          ]
        }
      ]
    }
  ]
}